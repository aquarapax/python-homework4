{
 "cells": [
  {
   "cell_type": "markdown",
   "metadata": {},
   "source": [
    "Задача 1 Опишите класс комплексных чисел"
   ]
  },
  {
   "cell_type": "code",
   "execution_count": 25,
   "metadata": {},
   "outputs": [],
   "source": [
    "import math\n",
    "\n",
    "class ComplexNumber:\n",
    "    # Конструктор класса принимает действительную и мнимую часть \n",
    "    # или радиус и угол в полярной форме\n",
    "    def __init__(self, real=0.0, imaginary=0.0, polar=False):\n",
    "        if polar:  # Проверяем, если передана полярная форма\n",
    "            self.r = real  # Устанавливаем радиус\n",
    "            self.theta = imaginary  # Устанавливаем угол\n",
    "            # Вычисляем действительную и мнимую части из полярной формы\n",
    "            self.real = self.r * math.cos(self.theta) \n",
    "            self.imaginary = self.r * math.sin(self.theta)\n",
    "        else:  # Если передана алгебраическая форма\n",
    "            self.real = real  # Устанавливаем действительную часть\n",
    "            self.imaginary = imaginary  # Устанавливаем мнимую часть\n",
    "            # Вычисляем радиус и угол из алгебраической формы\n",
    "            self.r = math.sqrt(real**2 + imaginary**2)  # Радиус\n",
    "            self.theta = math.atan2(imaginary, real)  # Угол\n",
    "   \n",
    "    # Метод сложения\n",
    "    def __add__(self, other):\n",
    "        # Возвращаем новое комплексное число, сложив действительные и мнимые части\n",
    "        return ComplexNumber(self.real + other.real, self.imaginary + other.imaginary)\n",
    "\n",
    "    # Метод вычитания\n",
    "    def __sub__(self, other):\n",
    "        # Возвращаем новое комплексное число, вычитая действительные и мнимые части\n",
    "        return ComplexNumber(self.real - other.real, self.imaginary - other.imaginary)\n",
    "\n",
    "    # Метод умножения\n",
    "    def __mul__(self, other):\n",
    "        # Формула для умножения комплексных чисел\n",
    "        return ComplexNumber(\n",
    "            self.real * other.real - self.imaginary * other.imaginary,  # Действительная часть\n",
    "            self.real * other.imaginary + self.imaginary * other.real  # Мнимая часть\n",
    "        )\n",
    "\n",
    "    # Метод деления\n",
    "    def __truediv__(self, other):\n",
    "        # Вычисляем знаменатель\n",
    "        denom = other.real**2 + other.imaginary**2\n",
    "        # Формула для деления комплексных чисел\n",
    "        real_part = (self.real * other.real + self.imaginary * other.imaginary) / denom\n",
    "        imaginary_part = (self.imaginary * other.real - self.real * other.imaginary) / denom\n",
    "        # Возвращаем новое комплексное число\n",
    "        return ComplexNumber(real_part, imaginary_part)\n",
    "\n",
    "    # Метод для получения алгебраической формы числа\n",
    "    def algebraic(self):\n",
    "        # Форматируем строку для алгебраической формы\n",
    "        return f\"{self.real} + {self.imaginary}j\"\n",
    "\n",
    "    # Метод для получения полярной формы числа\n",
    "    def polar(self):\n",
    "        # Форматируем строку для полярной формы\n",
    "        return f\"r = {self.r}, angle = {self.theta} (radians)\"\n",
    "\n",
    "    # Метод для строкового представления объекта\n",
    "    def __str__(self):\n",
    "        # При выводе объекта будет показана алгебраическая форма\n",
    "        return self.algebraic()"
   ]
  },
  {
   "cell_type": "code",
   "execution_count": 26,
   "metadata": {},
   "outputs": [
    {
     "name": "stdout",
     "output_type": "stream",
     "text": [
      "Алгебраическая форма записи: 3 + 4j\n",
      "Полярная форма записи: r = 5.0, angle = 0.9272952180016122 (radians)\n"
     ]
    }
   ],
   "source": [
    " # Создаем комплексное число в алгебраической форме\n",
    "c1 = ComplexNumber(3, 4)  \n",
    "print(\"Алгебраическая форма записи:\", c1.algebraic())  # Выводим алгебраическую форму\n",
    "print(\"Полярная форма записи:\", c1.polar())  # Выводим полярную форму\n"
   ]
  },
  {
   "cell_type": "code",
   "execution_count": 27,
   "metadata": {},
   "outputs": [
    {
     "name": "stdout",
     "output_type": "stream",
     "text": [
      "Алгебраическая форма записи: 2.5000000000000004 + 4.330127018922193j\n",
      "Полярная форма записи: r = 5, angle = 1.0471975511965976 (radians)\n"
     ]
    }
   ],
   "source": [
    "# Создаем комплексное число в полярной форме\n",
    "c2 = ComplexNumber(5, math.pi / 3, polar=True)  \n",
    "print(\"Алгебраическая форма записи:\", c2.algebraic())  # Выводим алгебраическую форму\n",
    "print(\"Полярная форма записи:\", c2.polar())  # Выводим полярную форму"
   ]
  },
  {
   "cell_type": "code",
   "execution_count": 28,
   "metadata": {},
   "outputs": [
    {
     "name": "stdout",
     "output_type": "stream",
     "text": [
      "с1 + с2 =  5.5 + 8.330127018922193j\n"
     ]
    }
   ],
   "source": [
    "c3 = c1 + c2  # Сложение\n",
    "print(\"с1 + с2 = \", c3)"
   ]
  },
  {
   "cell_type": "code",
   "execution_count": 29,
   "metadata": {},
   "outputs": [
    {
     "name": "stdout",
     "output_type": "stream",
     "text": [
      "c1 - c2 =  0.49999999999999956 + -0.33012701892219276j\n"
     ]
    }
   ],
   "source": [
    "c4 = c1 - c2  # Вычитание\n",
    "print(\"c1 - c2 = \", c4)"
   ]
  },
  {
   "cell_type": "code",
   "execution_count": 30,
   "metadata": {},
   "outputs": [
    {
     "name": "stdout",
     "output_type": "stream",
     "text": [
      "c1 * c2 =  -9.82050807568877 + 22.99038105676658j\n"
     ]
    }
   ],
   "source": [
    "c5 = c1 * c2  # Умножение\n",
    "print(\"c1 * c2 = \", c5)"
   ]
  },
  {
   "cell_type": "code",
   "execution_count": 31,
   "metadata": {},
   "outputs": [
    {
     "name": "stdout",
     "output_type": "stream",
     "text": [
      "c1 / c2 =  0.9928203230275509 + -0.11961524227066306j\n"
     ]
    }
   ],
   "source": [
    "c6 = c1 / c2  # Деление\n",
    "print(\"c1 / c2 = \", c6)"
   ]
  },
  {
   "cell_type": "markdown",
   "metadata": {},
   "source": [
    "Задача2 Опишите класс длявекторов в N-мерном пространстве"
   ]
  },
  {
   "cell_type": "code",
   "execution_count": 40,
   "metadata": {},
   "outputs": [],
   "source": [
    "import math\n",
    "\n",
    "class Vector:\n",
    "    def __init__(self, coordinates):\n",
    "        # Инициализация вектора с заданными координатами.\n",
    "        if not isinstance(coordinates, list): # Проверяем что коодинаты переданы в виде списка\n",
    "            raise ValueError(\"Координаты вектора должны быть переданы в виде списка.\")\n",
    "        if len(coordinates) == 0: # Проверяем наличии координат в списке\n",
    "            raise ValueError(\"Координаты вектора не могут быть пустыми.\")\n",
    "        self.coordinates = coordinates\n",
    "    \n",
    "    # Метод сложения\n",
    "    def __add__(self, other):\n",
    "        if len(self.coordinates) != len(other.coordinates): # Проверяем размерность векторов\n",
    "            raise ValueError(\"Сложение невозможно: векторы разной размерности.\")\n",
    "        return Vector([self.coordinates[i] + other.coordinates[i] for i in range(len(self.coordinates))])\n",
    "    \n",
    "    # Метод вычитания\n",
    "    def __sub__(self, other):\n",
    "        if len(self.coordinates) != len(other.coordinates): # Проверяем размерность векторов\n",
    "            raise ValueError(\"Вычитание невозможно: векторы разной размерности.\")\n",
    "        return Vector([self.coordinates[i] - other.coordinates[i] for i in range(len(self.coordinates))])\n",
    "\n",
    "    # Метод скалярного произведения\n",
    "    def dot(self, other):\n",
    "        if len(self.coordinates) != len(other.coordinates): # Проверяем размерность векторов\n",
    "            raise ValueError(\"Скалярное произведение невозможно: векторы разной размерности.\")\n",
    "        return sum(self.coordinates[i] * other.coordinates[i] for i in range(len(self.coordinates)))\n",
    "\n",
    "    # Метод вычисление косинуса между двумя векторами\n",
    "    def cosine(self, other):\n",
    "        \n",
    "        dot_result = self.dot(other) # Вычисляем скалярное произведение векторов\n",
    "        # Вычисляем длинны векторов\n",
    "        self_len = self.norm() \n",
    "        other_len = other.norm()\n",
    "        \n",
    "        if self_len == 0 or other_len == 0: # Проверка на нулевую длинну\n",
    "            raise ValueError(\"Косинус угла невозможно вычислить: один из векторов имеет нулевую длину.\")\n",
    "        \n",
    "        return dot_result / (self_len * other_len)\n",
    "\n",
    "    # Метод вычисление евклидовой нормы\n",
    "    def norm(self):\n",
    "       \n",
    "        return math.sqrt(sum(x**2 for x in self.coordinates))\n",
    "    # Метод строкового представления вектора\n",
    "    def __str__(self):\n",
    "        \n",
    "        return f\"Vector({self.coordinates})\""
   ]
  },
  {
   "cell_type": "code",
   "execution_count": 33,
   "metadata": {},
   "outputs": [],
   "source": [
    "v1 = Vector([1, 2, 3])\n",
    "v2 = Vector([4, 5, 6])"
   ]
  },
  {
   "cell_type": "code",
   "execution_count": 34,
   "metadata": {},
   "outputs": [
    {
     "name": "stdout",
     "output_type": "stream",
     "text": [
      "Сложение v1 и v2: Vector([5, 7, 9])\n"
     ]
    }
   ],
   "source": [
    "v3 = v1 + v2  # Сложение\n",
    "print(\"Сложение v1 и v2:\", v3)"
   ]
  },
  {
   "cell_type": "code",
   "execution_count": 35,
   "metadata": {},
   "outputs": [
    {
     "name": "stdout",
     "output_type": "stream",
     "text": [
      "Вычитание v1 и v2: Vector([-3, -3, -3])\n"
     ]
    }
   ],
   "source": [
    "v4 = v1 - v2  # Вычитание\n",
    "print(\"Вычитание v1 и v2:\", v4)"
   ]
  },
  {
   "cell_type": "code",
   "execution_count": 36,
   "metadata": {},
   "outputs": [
    {
     "name": "stdout",
     "output_type": "stream",
     "text": [
      "Скалярное произведение v1 и v2: 32\n"
     ]
    }
   ],
   "source": [
    "dot_product = v1.dot(v2)  # Скалярное произведение\n",
    "print(\"Скалярное произведение v1 и v2:\", dot_product)"
   ]
  },
  {
   "cell_type": "code",
   "execution_count": 37,
   "metadata": {},
   "outputs": [
    {
     "name": "stdout",
     "output_type": "stream",
     "text": [
      "Косинус угла между v1 и v2: 0.9746318461970762\n"
     ]
    }
   ],
   "source": [
    "cosine_value = v1.cosine(v2)  # Косинус угла\n",
    "print(\"Косинус угла между v1 и v2:\", cosine_value)"
   ]
  },
  {
   "cell_type": "code",
   "execution_count": 38,
   "metadata": {},
   "outputs": [
    {
     "name": "stdout",
     "output_type": "stream",
     "text": [
      "Длина вектора v1: 3.7416573867739413\n"
     ]
    }
   ],
   "source": [
    "norm_v1 = v1.norm()  # Евклидова норма\n",
    "print(\"Длина вектора v1:\", norm_v1)"
   ]
  }
 ],
 "metadata": {
  "kernelspec": {
   "display_name": "Python 3",
   "language": "python",
   "name": "python3"
  },
  "language_info": {
   "codemirror_mode": {
    "name": "ipython",
    "version": 3
   },
   "file_extension": ".py",
   "mimetype": "text/x-python",
   "name": "python",
   "nbconvert_exporter": "python",
   "pygments_lexer": "ipython3",
   "version": "3.13.0"
  }
 },
 "nbformat": 4,
 "nbformat_minor": 2
}
